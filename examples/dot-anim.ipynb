{
 "cells": [
  {
   "cell_type": "markdown",
   "metadata": {},
   "source": [
    "# Interactive stepper\n",
    "\n",
    "Demo interactive graph stepper..."
   ]
  },
  {
   "cell_type": "code",
   "execution_count": 2,
   "metadata": {},
   "outputs": [
    {
     "name": "stdout",
     "output_type": "stream",
     "text": [
      "--2021-08-02 11:27:29--  https://api.parliament.uk/procedures/work-packages/9/parse/log.dot\n",
      "Resolving api.parliament.uk (api.parliament.uk)... 51.137.96.34\n",
      "Connecting to api.parliament.uk (api.parliament.uk)|51.137.96.34|:443... connected.\n",
      "HTTP request sent, awaiting response... 200 OK\n",
      "Length: unspecified [text/dot]\n",
      "Saving to: ‘log.dot.2’\n",
      "\n",
      "log.dot.2               [ <=>                ]  48.69K  --.-KB/s    in 0.1s    \n",
      "\n",
      "2021-08-02 11:27:31 (412 KB/s) - ‘log.dot.2’ saved [49861]\n",
      "\n",
      "digraph G {\n",
      "\"Instrument created (Business step)\" -> \"AA (NOT)\"\n",
      "\"AA (NOT)\" -> \"Instrument created (Business step)\"\n",
      "\"Instrument created (Business step)\" -> \"AA (OR)\"\n",
      "\"AA (OR)\" -> \"AC (AND)\"\n",
      "\"AC (AND)\" -> \"Laid before the House of Commons (Business step)\"\n",
      "\"Laid before the House of Commons (Business step)\" -> \"AE (NOT)\"\n",
      "\"AE (NOT)\" -> \"AC (AND)\"\n",
      "\"AC (AND)\" -> \"Laid before the House of Commons (Business step)\"\n",
      "\"Laid before the House of Commons (Business step)\" -> \"AF (AND)\"\n"
     ]
    }
   ],
   "source": [
    "# Get dot file\n",
    "!wget https://api.parliament.uk/procedures/work-packages/9/parse/log.dot\n",
    "!head log.dot"
   ]
  },
  {
   "cell_type": "markdown",
   "metadata": {},
   "source": [
    "Import required packages for [`mapio/GraphvizAnim`](https://github.com/mapio/GraphvizAnim):"
   ]
  },
  {
   "cell_type": "code",
   "execution_count": 5,
   "metadata": {},
   "outputs": [],
   "source": [
    "from gvanim import Animation\n",
    "from gvanim.jupyter import interactive\n",
    "\n",
    "ga = Animation()"
   ]
  },
  {
   "cell_type": "markdown",
   "metadata": {},
   "source": [
    "Load in data:"
   ]
  },
  {
   "cell_type": "code",
   "execution_count": 6,
   "metadata": {},
   "outputs": [
    {
     "data": {
      "text/plain": [
       "['\"Instrument created (Business step)\" -> \"AA (NOT)\"',\n",
       " '\"AA (NOT)\" -> \"Instrument created (Business step)\"',\n",
       " '\"Instrument created (Business step)\" -> \"AA (OR)\"']"
      ]
     },
     "execution_count": 6,
     "metadata": {},
     "output_type": "execute_result"
    }
   ],
   "source": [
    "with open(\"log.dot\") as f:\n",
    "    # top and tail first line - leaves us with edge definitions\n",
    "    dot = f.read().split('\\n')[1:-1]\n",
    "\n",
    "dot[:3]"
   ]
  },
  {
   "cell_type": "markdown",
   "metadata": {},
   "source": [
    "Build up the anination a step at a time:"
   ]
  },
  {
   "cell_type": "code",
   "execution_count": 7,
   "metadata": {},
   "outputs": [],
   "source": [
    "ga = Animation()\n",
    "ga.label_node( 1, \"start\" )\n",
    "\n",
    "nodes = {}\n",
    "nc = 2\n",
    "for i,n in enumerate(dot[:100], start=1):\n",
    "    ga.next_step()\n",
    "    from_to = [i.strip() for i in n.split('->')]\n",
    "    from_node = from_to[0]\n",
    "    to_node = from_to[1]\n",
    "    \n",
    "    for node in [from_node, to_node]:\n",
    "        if node not in nodes:\n",
    "            nodes[node] = nc\n",
    "            nc = nc +1\n",
    "\n",
    "    ga.label_node(nodes[from_node], from_node )\n",
    "    ga.label_node(nodes[to_node], to_node )\n",
    "    ga.add_edge(nodes[from_node], nodes[to_node] )"
   ]
  },
  {
   "cell_type": "markdown",
   "metadata": {},
   "source": [
    "View the animation interactively:"
   ]
  },
  {
   "cell_type": "code",
   "execution_count": 9,
   "metadata": {},
   "outputs": [
    {
     "data": {
      "application/vnd.jupyter.widget-view+json": {
       "model_id": "abafc09e128240028cc2ddeb9cb8164c",
       "version_major": 2,
       "version_minor": 0
      },
      "text/plain": [
       "interactive(children=(IntSlider(value=0, description='n'), Output()), _dom_classes=('widget-interact',))"
      ]
     },
     "metadata": {},
     "output_type": "display_data"
    }
   ],
   "source": [
    "interactive( ga, 400 )"
   ]
  },
  {
   "cell_type": "code",
   "execution_count": null,
   "metadata": {},
   "outputs": [],
   "source": []
  }
 ],
 "metadata": {
  "kernelspec": {
   "display_name": "Python 3",
   "language": "python",
   "name": "python3"
  },
  "language_info": {
   "codemirror_mode": {
    "name": "ipython",
    "version": 3
   },
   "file_extension": ".py",
   "mimetype": "text/x-python",
   "name": "python",
   "nbconvert_exporter": "python",
   "pygments_lexer": "ipython3",
   "version": "3.7.8"
  }
 },
 "nbformat": 4,
 "nbformat_minor": 4
}
